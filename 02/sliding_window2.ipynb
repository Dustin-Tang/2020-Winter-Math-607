{
 "cells": [
  {
   "cell_type": "markdown",
   "metadata": {},
   "source": [
    "## Sliding Window Smoothers"
   ]
  },
  {
   "cell_type": "code",
   "execution_count": null,
   "metadata": {},
   "outputs": [],
   "source": [
    "import numpy as np\n",
    "from matplotlib import pyplot as plt\n",
    "from sklearn.neighbors import RadiusNeighborsRegressor\n",
    "from sklearn.base import BaseEstimator, RegressorMixin\n",
    "from sklearn.utils import check_array, check_X_y"
   ]
  },
  {
   "cell_type": "code",
   "execution_count": null,
   "metadata": {},
   "outputs": [],
   "source": [
    "class SW(BaseEstimator, RegressorMixin):\n",
    "    def __init__(self, bandwidth=0.1):\n",
    "        setattr(self, \"bandwidth\", bandwidth)\n",
    "    \n",
    "    def fit(self, X, y):\n",
    "        setattr(self, \"_X\", X)\n",
    "        setattr(self, \"_y\", y)\n",
    "        return self\n",
    "        \n",
    "    def predict(self, X):\n",
    "        I = np.abs(np.reshape(self._X, (-1,1)) - np.reshape(X, (1,-1))) < self.bandwidth\n",
    "        y_pred = np.sum(self._y.reshape(-1, 1)*I, axis=0)/np.sum(I, axis=0)\n",
    "        return y_pred"
   ]
  },
  {
   "cell_type": "code",
   "execution_count": null,
   "metadata": {},
   "outputs": [],
   "source": [
    "np.random.seed(668)\n",
    "n = 100\n",
    "\n",
    "def y_true(x):\n",
    "    return np.sin(x*(2*np.pi*x))\n",
    "\n",
    "t = np.linspace(0, 1)\n",
    "plt.plot(t, y_true(t))\n",
    "\n",
    "_X = np.random.uniform(size=n)\n",
    "_X.sort()\n",
    "_y = y_true(_X) + np.random.normal(0, 0.2, size=n)\n",
    "plt.plot(_X, _y, 'o', mec='k')\n",
    "\n",
    "bandwidth=0.06\n",
    "M = SW(bandwidth=bandwidth)\n",
    "M.fit(_X.reshape(-1, 1), _y)\n",
    "y_pred = M.predict(t.reshape(-1, 1))\n",
    "plt.plot(t, y_pred, '-', lw=5, color=\"cyan\")\n",
    "\n",
    "y_check = RadiusNeighborsRegressor(radius=bandwidth).fit(_X.reshape(-1, 1), _y).predict(t.reshape(-1, 1))\n",
    "plt.plot(t, y_check, '--', lw=5, color=\"red\");"
   ]
  },
  {
   "cell_type": "code",
   "execution_count": null,
   "metadata": {},
   "outputs": [],
   "source": [
    "cross_val_score(_X, _y, RadiusNeighborsRegressor(radius=0.1), cv=5, scoring=\"neg_mean_square_error\")"
   ]
  },
  {
   "cell_type": "code",
   "execution_count": null,
   "metadata": {},
   "outputs": [],
   "source": [
    "M.score(_X, _Y)"
   ]
  },
  {
   "cell_type": "code",
   "execution_count": null,
   "metadata": {},
   "outputs": [],
   "source": []
  }
 ],
 "metadata": {
  "kernelspec": {
   "display_name": "Python 3",
   "language": "python",
   "name": "python3"
  },
  "language_info": {
   "codemirror_mode": {
    "name": "ipython",
    "version": 3
   },
   "file_extension": ".py",
   "mimetype": "text/x-python",
   "name": "python",
   "nbconvert_exporter": "python",
   "pygments_lexer": "ipython3",
   "version": "3.7.4"
  }
 },
 "nbformat": 4,
 "nbformat_minor": 4
}
