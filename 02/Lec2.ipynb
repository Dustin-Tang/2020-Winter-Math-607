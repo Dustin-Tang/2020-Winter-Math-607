{
 "cells": [
  {
   "cell_type": "code",
   "execution_count": 1,
   "metadata": {},
   "outputs": [],
   "source": [
    "import numpy as np\n",
    "from matplotlib import pyplot as plt\n"
   ]
  },
  {
   "cell_type": "code",
   "execution_count": 3,
   "metadata": {},
   "outputs": [
    {
     "name": "stdout",
     "output_type": "stream",
     "text": [
      "0.8364277946833697 -0.40286473149604796\n"
     ]
    },
    {
     "data": {
      "image/png": "[encoded data removed]",
      "text/plain": [
       "<Figure size 432x288 with 1 Axes>"
      ]
     },
     "metadata": {
      "needs_background": "light"
     },
     "output_type": "display_data"
    }
   ],
   "source": [
    "intercept = np.random.random()\n",
    "slope = - np.random.random()\n",
    "\n",
    "plt.plot([0,1], [intercept, intercept * slope*1])\n",
    "print(intercept, slope)"
   ]
  },
  {
   "cell_type": "code",
   "execution_count": 6,
   "metadata": {},
   "outputs": [
    {
     "data": {
      "text/plain": [
       "[<matplotlib.lines.Line2D at 0x113361ba8>]"
      ]
     },
     "execution_count": 6,
     "metadata": {},
     "output_type": "execute_result"
    },
    {
     "data": {
      "image/png": "[encoded data removed]",
      "text/plain": [
       "<Figure size 432x288 with 1 Axes>"
      ]
     },
     "metadata": {
      "needs_background": "light"
     },
     "output_type": "display_data"
    }
   ],
   "source": [
    "n = 20\n",
    "\n",
    "X = np.random.uniform(size=n)\n",
    "\n",
    "X.sort()\n",
    "\n",
    "\n",
    "y = intercept + slope*X + np.random.normal(0, 0.1, size=n)\n",
    "\n",
    "plt.plot([0,1], [intercept, intercept * slope*1])\n",
    "plt.plot(X, y, 'o', label = 'Sample')\n"
   ]
  },
  {
   "cell_type": "code",
   "execution_count": 9,
   "metadata": {},
   "outputs": [
    {
     "data": {
      "text/plain": [
       "array([[1.        , 0.00591281],\n",
       "       [1.        , 0.05059716],\n",
       "       [1.        , 0.06036296],\n",
       "       [1.        , 0.07068549],\n",
       "       [1.        , 0.09836501],\n",
       "       [1.        , 0.16969647],\n",
       "       [1.        , 0.36161714],\n",
       "       [1.        , 0.44307668],\n",
       "       [1.        , 0.47612727],\n",
       "       [1.        , 0.48514263],\n",
       "       [1.        , 0.53306016],\n",
       "       [1.        , 0.54507707],\n",
       "       [1.        , 0.54825283],\n",
       "       [1.        , 0.55903402],\n",
       "       [1.        , 0.62810194],\n",
       "       [1.        , 0.75423772],\n",
       "       [1.        , 0.75896932],\n",
       "       [1.        , 0.81186457],\n",
       "       [1.        , 0.85421809],\n",
       "       [1.        , 0.97354532]])"
      ]
     },
     "execution_count": 9,
     "metadata": {},
     "output_type": "execute_result"
    }
   ],
   "source": [
    "XX = np.array([np.ones_like(X), X]).T\n",
    "\n",
    "XX"
   ]
  },
  {
   "cell_type": "code",
   "execution_count": 14,
   "metadata": {},
   "outputs": [
    {
     "data": {
      "text/plain": [
       "array([ 0.84246072, -0.36462271])"
      ]
     },
     "execution_count": 14,
     "metadata": {},
     "output_type": "execute_result"
    }
   ],
   "source": [
    "intercept_, slope_ = np.linalg.inv(XX.T @ XX) @ XX.T @ y\n",
    "\n"
   ]
  },
  {
   "cell_type": "code",
   "execution_count": 15,
   "metadata": {},
   "outputs": [
    {
     "name": "stdout",
     "output_type": "stream",
     "text": [
      "0.8364277946833697 0.8424607157727855 -0.40286473149604796 -0.3646227122417708\n"
     ]
    }
   ],
   "source": [
    "print(intercept, intercept_, slope, slope_)"
   ]
  },
  {
   "cell_type": "code",
   "execution_count": 16,
   "metadata": {},
   "outputs": [
    {
     "data": {
      "text/plain": [
       "array([[ 1,  4],\n",
       "       [ 9, 16]])"
      ]
     },
     "execution_count": 16,
     "metadata": {},
     "output_type": "execute_result"
    }
   ],
   "source": [
    "A = np.array([[1,2], [3,4]])\n",
    "A*A"
   ]
  },
  {
   "cell_type": "code",
   "execution_count": 17,
   "metadata": {},
   "outputs": [
    {
     "data": {
      "text/plain": [
       "array([[ 7, 10],\n",
       "       [15, 22]])"
      ]
     },
     "execution_count": 17,
     "metadata": {},
     "output_type": "execute_result"
    }
   ],
   "source": [
    "A@A"
   ]
  },
  {
   "cell_type": "code",
   "execution_count": 20,
   "metadata": {},
   "outputs": [],
   "source": [
    "(intercept_, slope_), *_ = np.linalg.lstsq(XX, y, rcond=-1)"
   ]
  },
  {
   "cell_type": "code",
   "execution_count": 22,
   "metadata": {},
   "outputs": [],
   "source": [
    "X_test = np.random.uniform(size = 3)"
   ]
  },
  {
   "cell_type": "code",
   "execution_count": 24,
   "metadata": {},
   "outputs": [],
   "source": [
    "weights = np.array([np.ones_like(X_test), X_test]).T @ np.linalg.inv(XX.T @ XX) @ XX.T"
   ]
  },
  {
   "cell_type": "code",
   "execution_count": 32,
   "metadata": {},
   "outputs": [
    {
     "data": {
      "text/plain": [
       "array([[ 0.16519693,  0.15384593,  0.15136516,  0.14874297,  0.14171165,\n",
       "         0.12359159,  0.07483871,  0.05414585,  0.04575013,  0.04346   ,\n",
       "         0.03128769,  0.02823508,  0.02742835,  0.02468965,  0.00714458,\n",
       "        -0.02489721, -0.02609916, -0.03953594, -0.05029484, -0.08060709],\n",
       "       [ 0.15765259,  0.14704498,  0.14472668,  0.14227622,  0.13570538,\n",
       "         0.11877202,  0.073212  ,  0.05387433,  0.04602846,  0.0438883 ,\n",
       "         0.03251317,  0.02966048,  0.02890658,  0.02634724,  0.00995122,\n",
       "        -0.01999213, -0.02111537, -0.03367216, -0.04372646, -0.07205353],\n",
       "       [-0.08470112, -0.07142826, -0.06852747, -0.06546131, -0.0572395 ,\n",
       "        -0.0360515 ,  0.02095581,  0.04515221,  0.05496942,  0.0576473 ,\n",
       "         0.07188053,  0.07544998,  0.0763933 ,  0.07959569,  0.10011134,\n",
       "         0.13757818,  0.13898364,  0.15469542,  0.16727593,  0.2027204 ]])"
      ]
     },
     "execution_count": 32,
     "metadata": {},
     "output_type": "execute_result"
    }
   ],
   "source": [
    "y_test = weights.dot(y)\n",
    "\n",
    "weights"
   ]
  },
  {
   "cell_type": "code",
   "execution_count": 27,
   "metadata": {},
   "outputs": [],
   "source": [
    "from sklearn.linear_model import LinearRegression"
   ]
  },
  {
   "cell_type": "code",
   "execution_count": 29,
   "metadata": {},
   "outputs": [],
   "source": [
    "M = LinearRegression()\n",
    "M.fit(X.reshape(-1,1), y)\n",
    "\n",
    "yy_test = M.predict(X_test.reshape(-1,1))"
   ]
  },
  {
   "cell_type": "code",
   "execution_count": 30,
   "metadata": {},
   "outputs": [
    {
     "data": {
      "text/plain": [
       "array([0.83133275, 0.82109139, 0.49209861])"
      ]
     },
     "execution_count": 30,
     "metadata": {},
     "output_type": "execute_result"
    }
   ],
   "source": [
    "yy_test"
   ]
  },
  {
   "cell_type": "code",
   "execution_count": 31,
   "metadata": {},
   "outputs": [
    {
     "data": {
      "text/plain": [
       "array([0.83133275, 0.82109139, 0.49209861])"
      ]
     },
     "execution_count": 31,
     "metadata": {},
     "output_type": "execute_result"
    }
   ],
   "source": [
    "y_test"
   ]
  },
  {
   "cell_type": "code",
   "execution_count": null,
   "metadata": {},
   "outputs": [],
   "source": []
  }
 ],
 "metadata": {
  "kernelspec": {
   "display_name": "Python 3",
   "language": "python",
   "name": "python3"
  },
  "language_info": {
   "codemirror_mode": {
    "name": "ipython",
    "version": 3
   },
   "file_extension": ".py",
   "mimetype": "text/x-python",
   "name": "python",
   "nbconvert_exporter": "python",
   "pygments_lexer": "ipython3",
   "version": "3.7.3"
  }
 },
 "nbformat": 4,
 "nbformat_minor": 4
}
