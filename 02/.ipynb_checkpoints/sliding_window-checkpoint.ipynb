{
 "cells": [
  {
   "cell_type": "markdown",
   "metadata": {},
   "source": [
    "## $K$-Nearest Neighbors"
   ]
  },
  {
   "cell_type": "code",
   "execution_count": 103,
   "metadata": {},
   "outputs": [],
   "source": [
    "import numpy as np\n",
    "from matplotlib import pyplot as plt\n",
    "from sklearn.neighbors import KNeighborsRegressor\n",
    "from sklearn.base import BaseEstimator, RegressorMixin\n",
    "from sklearn.utils import check_array, check_X_y"
   ]
  },
  {
   "cell_type": "markdown",
   "metadata": {},
   "source": [
    "### Compute the nearest neighbor of $x$"
   ]
  },
  {
   "cell_type": "code",
   "execution_count": 43,
   "metadata": {},
   "outputs": [
    {
     "data": {
      "text/plain": [
       "[<matplotlib.lines.Line2D at 0x12d7fe990>]"
      ]
     },
     "execution_count": 43,
     "metadata": {},
     "output_type": "execute_result"
    },
    {
     "data": {
      "image/png": "[encoded data removed]",
      "text/plain": [
       "<Figure size 432x288 with 1 Axes>"
      ]
     },
     "metadata": {
      "needs_background": "light"
     },
     "output_type": "display_data"
    }
   ],
   "source": [
    "np.random.seed(666)\n",
    "X = 10*np.random.uniform(size=5)\n",
    "X.sort()\n",
    "plt.plot(X, [0 for x in X], 'o', color=(0,0,0,0), mec='k', mew=2, ms=10)"
   ]
  },
  {
   "cell_type": "code",
   "execution_count": 34,
   "metadata": {},
   "outputs": [],
   "source": [
    "def nn(x, X):\n",
    "    \"\"\"index in X of the entry closest to x\"\"\"\n",
    "    return np.abs(X - x).argmin()"
   ]
  },
  {
   "cell_type": "code",
   "execution_count": 42,
   "metadata": {},
   "outputs": [
    {
     "data": {
      "text/plain": [
       "[<matplotlib.lines.Line2D at 0x12d5821d0>]"
      ]
     },
     "execution_count": 42,
     "metadata": {},
     "output_type": "execute_result"
    },
    {
     "data": {
      "image/png": "[encoded data removed]",
      "text/plain": [
       "<Figure size 432x288 with 1 Axes>"
      ]
     },
     "metadata": {
      "needs_background": "light"
     },
     "output_type": "display_data"
    }
   ],
   "source": [
    "plt.plot(X, [0 for x in X], 'o', color=(0,0,0,0), mec='k', mew=2, ms=10)\n",
    "plt.plot(5, 0, 'o', mec='k', mew=2, ms=10)\n",
    "plt.plot(X[nn(5, X)], 0, 'o', color=(0,0,0,0), mec='fuchsia', mew=3, ms=10)"
   ]
  },
  {
   "cell_type": "code",
   "execution_count": 65,
   "metadata": {},
   "outputs": [],
   "source": [
    "def nns(x, X, k=2):\n",
    "    return np.abs(X - x).argsort()[:k]"
   ]
  },
  {
   "cell_type": "code",
   "execution_count": 72,
   "metadata": {},
   "outputs": [
    {
     "data": {
      "text/plain": [
       "[<matplotlib.lines.Line2D at 0x12e3bb410>]"
      ]
     },
     "execution_count": 72,
     "metadata": {},
     "output_type": "execute_result"
    },
    {
     "data": {
      "image/png": "[encoded data removed]",
      "text/plain": [
       "<Figure size 432x288 with 1 Axes>"
      ]
     },
     "metadata": {
      "needs_background": "light"
     },
     "output_type": "display_data"
    }
   ],
   "source": [
    "np.random.seed(667)\n",
    "X = 10*np.random.uniform(size=7)\n",
    "X.sort()\n",
    "\n",
    "plt.plot(X, [0 for x in X], 'o', color=(0,0,0,0), mec='k', mew=2, ms=10)\n",
    "plt.plot(4, 0, 'o', mec='k', mew=2, ms=10)\n",
    "plt.plot(X[nns(4, X, k=3)], [0, 0, 0], 'o', color=(0,0,0,0), mec='fuchsia', mew=3, ms=10)"
   ]
  },
  {
   "cell_type": "code",
   "execution_count": 82,
   "metadata": {},
   "outputs": [],
   "source": [
    "def nns_vectorized(x, X, k=2):\n",
    "    return np.abs(X.reshape(-1, 1) - np.array(x).reshape(1, -1)).argsort(axis=0)[:k, :]"
   ]
  },
  {
   "cell_type": "code",
   "execution_count": 98,
   "metadata": {},
   "outputs": [
    {
     "name": "stdout",
     "output_type": "stream",
     "text": [
      "[[1 5 0]\n",
      " [0 4 1]\n",
      " [2 6 2]]\n"
     ]
    },
    {
     "data": {
      "image/png": "[encoded data removed]",
      "text/plain": [
       "<Figure size 432x288 with 1 Axes>"
      ]
     },
     "metadata": {
      "needs_background": "light"
     },
     "output_type": "display_data"
    }
   ],
   "source": [
    "k = 3\n",
    "xs = [2.5, 6, 1]\n",
    "N = nns_vectorized(xs, X, k=k)\n",
    "print(N)\n",
    "plt.ylim(-1, len(xs))\n",
    "for j, x in enumerate(xs):\n",
    "    plt.plot(X, [j for x in X], 'o', color=(0,0,0,0), mec='k', mew=2, ms=10)\n",
    "    plt.plot(x, j, 'o', mec='k', mew=2, ms=10)\n",
    "    plt.plot(X[N[:,j]], [j for _ in range(k)], 'o', color=(0,0,0,0), mec='fuchsia', mew=3, ms=10)"
   ]
  },
  {
   "cell_type": "code",
   "execution_count": 193,
   "metadata": {},
   "outputs": [],
   "source": [
    "class NN(BaseEstimator, RegressorMixin):\n",
    "    def __init__(self, n_neighbors=3):\n",
    "        setattr(self, \"n_neighbors\", n_neighbors)\n",
    "    \n",
    "    def fit(self, X, y):\n",
    "        setattr(self, \"_X\", X)\n",
    "        setattr(self, \"_y\", y)\n",
    "        return self\n",
    "        \n",
    "    def predict(self, X):\n",
    "        I = nns_vectorized(X, self._X, k=self.n_neighbors)\n",
    "        return self._y[I].mean(axis=0)"
   ]
  },
  {
   "cell_type": "code",
   "execution_count": 111,
   "metadata": {},
   "outputs": [
    {
     "name": "stdout",
     "output_type": "stream",
     "text": [
      "NN(n_neighbors=3)\n",
      "<bound method BaseEstimator.get_params of NN(n_neighbors=3)>\n",
      "{'n_neighbors': 3}\n"
     ]
    }
   ],
   "source": [
    "M = NN()\n",
    "print(M)\n",
    "print(M.get_params)\n",
    "print(M.get_params())"
   ]
  },
  {
   "cell_type": "code",
   "execution_count": 112,
   "metadata": {},
   "outputs": [],
   "source": [
    "M = KNeighborsRegressor(n_neighbors=2)"
   ]
  },
  {
   "cell_type": "code",
   "execution_count": 224,
   "metadata": {},
   "outputs": [
    {
     "data": {
      "text/plain": [
       "[<matplotlib.lines.Line2D at 0x131570f90>]"
      ]
     },
     "execution_count": 224,
     "metadata": {},
     "output_type": "execute_result"
    },
    {
     "data": {
      "image/png": "[encoded data removed]",
      "text/plain": [
       "<Figure size 432x288 with 1 Axes>"
      ]
     },
     "metadata": {
      "needs_background": "light"
     },
     "output_type": "display_data"
    }
   ],
   "source": [
    "np.random.seed(668)\n",
    "\n",
    "def y_true(x):\n",
    "    return np.sin(x*(2*np.pi*x))\n",
    "\n",
    "t = np.linspace(0, 1)\n",
    "plt.plot(t, y_true(t))\n",
    "\n",
    "X = np.random.uniform(size=50)\n",
    "X.sort()\n",
    "y = y_true(X) + np.random.normal(0, 0.2, size=50)\n",
    "plt.plot(X, y, 'o', mec='k')\n",
    "\n",
    "k = 4\n",
    "M = NN(n_neighbors=k)\n",
    "M.fit(X.reshape(-1, 1), y)\n",
    "y_pred = M.predict(t.reshape(-1, 1))\n",
    "plt.plot(t, y_pred, '-', lw=5, color=\"cyan\")\n",
    "\n",
    "y_check = KNeighborsRegressor(n_neighbors=k).fit(X.reshape(-1, 1), y).predict(t.reshape(-1, 1))\n",
    "# yy_pred = MM.predict(t.reshape(-1, 1))\n",
    "plt.plot(t, y_check, '--', lw=5, color=\"red\")"
   ]
  },
  {
   "cell_type": "code",
   "execution_count": null,
   "metadata": {},
   "outputs": [],
   "source": []
  }
 ],
 "metadata": {
  "kernelspec": {
   "display_name": "Python 3",
   "language": "python",
   "name": "python3"
  },
  "language_info": {
   "codemirror_mode": {
    "name": "ipython",
    "version": 3
   },
   "file_extension": ".py",
   "mimetype": "text/x-python",
   "name": "python",
   "nbconvert_exporter": "python",
   "pygments_lexer": "ipython3",
   "version": "3.7.4"
  }
 },
 "nbformat": 4,
 "nbformat_minor": 2
}
